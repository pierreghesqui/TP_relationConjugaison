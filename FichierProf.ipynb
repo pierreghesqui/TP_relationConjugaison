{
 "cells": [
  {
   "cell_type": "markdown",
   "id": "8b7e6f53",
   "metadata": {},
   "source": [
    "# 1- Mesures et incertitudes\n",
    "✍️ **Compléter le code ci-dessous en écrivant les listes de valeurs de $\\overline{OA}$, $U(\\overline{OA})$, $\\overline{OA'}$ et $U(\\overline{OA'})$**"
   ]
  },
  {
   "cell_type": "code",
   "execution_count": null,
   "id": "6ffcb301",
   "metadata": {
    "scrolled": false
   },
   "outputs": [],
   "source": [
    "import numpy as np                             #[NE PAS MODIFIER CETTE LIGNE]\n",
    "import matplotlib.pyplot as plt                #[NE PAS MODIFIER CETTE LIGNE]\n",
    "\n",
    "OA =     [-15,-17,-19,  -20,  -21,-23,-25,-27] #COMPLETER CETTE LIGNE AVEC DES VALEURS EN CM\n",
    "                                               #Exemple : OA = [-7, -8, -9, -10, -11]\n",
    "                                               #Attention : les grandeurs algébriques peuvent être négatives\n",
    "\n",
    "U_OA = [0.3,0.3,0.3,0.3,0.3,0.3,0.3,0.3]       #COMPLETER CETTE LIGNE AVEC DES VALEURS EN CM\n",
    "\n",
    "OAprime = [35, 30, 25.25, 23,   22, 20, 19,  18 ] #COMPLETER CETTE LIGNE AVEC DES VALEURS EN CM\n",
    "                                                 #Exemple : OAprime = [17, 18, 19, 10, 11]\n",
    "                                                 #Attention : ce sont des grandeurs algébriques !!\n",
    "\n",
    "U_OAprime = [0.5,0.5,0.5,0.5,0.5,0.5,0.5,0.5]  #COMPLETER CETTE LIGNE AVEC DES VALEURS EN CM\n",
    "\n",
    "nbDeMesuresOA = np.size(OA)           #Calcul le nombre de mesures de OA [NE PAS MODIFIER CETTE LIGNE]\n",
    "\n",
    "print(\"Les résultats de vos mesures ont été stockées dans les 4 listes suivantes : \")\n",
    "print(\"OA        = \", OA)\n",
    "print(\"U_OA      = \", U_OA)\n",
    "print(\"OAprime   = \",  OAprime)\n",
    "print(\"U_OAprime = \", U_OAprime)"
   ]
  },
  {
   "cell_type": "markdown",
   "id": "e732622c",
   "metadata": {},
   "source": [
    "✍️ **Exécuter le code ci-dessus (pour cela, cliquer sur le code puis sur la flèche en haut de la page**"
   ]
  },
  {
   "cell_type": "markdown",
   "id": "b8946f81",
   "metadata": {},
   "source": [
    "# 2- Calcul de $f'$ et $U(f')$\n",
    "Pour chacune des 8 mesures que vous avez effectuées, nous allons calculer $f'$ et $U(f')$. Les calculs seront effectués dans une boucle <code>for</code>. \n",
    "\n",
    "La distance focale f' est donnée par la relation suivante : \n",
    "$f' = \\frac{\\overline{OA'} \\times \\overline{OA}}{\\overline{OA}-\\overline{OA'}}$ \n",
    "\n",
    "L'incertitude sur la distance focale $U(f')$ se calcule avec la relation suivante : $U(f')= 2\\times f'^2 \\times (\\frac{U(\\overline{OA})}{\\overline{OA}^2} + \\frac{U(\\overline{OA'})}{\\overline{OA'}^2})$\n",
    "\n",
    "✍️ **Compléter le code ci-dessous avec les expressions littérales permettant de calculer $f'$ et $U(f')$. Aidez-vous des indices ci-dessous :**\n",
    "\n",
    "Indices : \n",
    "- Penser à utiliser les mêmes notations que dans le code précédent (exemple :  $OA'$ s'écrit <code>OAprime</code> ou encore $U(OA')$ s'écrit <code>U_OAprime</code>)  \n",
    "- Dans la boucle for, la variable \"i\" varie entre 0 et 7. Cette variable 'i', sert à faire les calculs avec le i ème élément des listes <code>OA, U_OA, OAprime</code> et <code>U_OAprime</code>. Donc, pensez à écrire <code>OA[i], OAprime[i], U_OA[i]</code> et <code>U_OAprime[i]</code>.  La notation '[i]' signifie que l'on fait le calcule avec le i ème élément de la liste. \n",
    "- En python, on écrit la puissance avec 2 étoiles : *Exemple, $2^3$ s'écrit <code>2**3</code>*\n",
    "- En python, la racine carré s'écrit avec la fonction np.sqrt : *Exemple $\\sqrt{5}$ s'écrit <code>np.sqrt(5)</code>*"
   ]
  },
  {
   "cell_type": "code",
   "execution_count": null,
   "id": "5c3152d1",
   "metadata": {
    "scrolled": true
   },
   "outputs": [],
   "source": [
    "fprimes =[] #Liste Vide                                                             [NE PAS MODIFIER CETTE LIGNE]\n",
    "U_fprimes =[] #Liste Vide                                                           [NE PAS MODIFIER CETTE LIGNE]\n",
    "\n",
    "for i in range(0,8): #Pour chacune des 8 mesures, on calcule fprime et U_fprime     [NE PAS MODIFIER CETTE LIGNE]\n",
    "    \n",
    "    fprime = 1/(1/OAprime[i]-1/OA[i])                                                       #COMPLETER CETTE LIGNE   \n",
    "    U_fprime = 2*fprime**2*( (U_OA[i]/OA[i]**2)**2+(U_OAprime[i]/OAprime[i]**2)**2 )**0.5   #COMPLETER CETTE LIGNE\n",
    "\n",
    "    fprimes.append(fprime)  #Ajout du résultat dans la liste                        [NE PAS MODIFIER CETTE LIGNE]\n",
    "    U_fprimes.append(U_fprime)  #Ajout du résultat dans la liste                    [NE PAS MODIFIER CETTE LIGNE]\n",
    "\n",
    "fprimes=np.round(fprimes,2) #Ces lignes arrondissent les résultats              [NE PAS MODIFIER CETTE LIGNE]\n",
    "U_fprimes=np.round(U_fprimes,2) #pour ne conserver qu'un chiffre après la virgule   [NE PAS MODIFIER CETTE LIGNE]\n",
    "\n",
    "print(\"Voici les résultats des calculs\")                                           #[NE PAS MODIFIER CETTE LIGNE]\n",
    "print(\"f'    = \", fprimes)                                                            #[NE PAS MODIFIER CETTE LIGNE]\n",
    "print(\"U(f') = \", U_fprimes)                                                       #[NE PAS MODIFIER CETTE LIGNE]"
   ]
  },
  {
   "cell_type": "markdown",
   "id": "71f51f18",
   "metadata": {},
   "source": [
    "# 3- Affichage des résultats :\n",
    "✍️ **Exécuter le code ci-dessous. (Ne rien modifier dans le code ci-dessous)**"
   ]
  },
  {
   "cell_type": "code",
   "execution_count": null,
   "id": "fa133491",
   "metadata": {
    "scrolled": true
   },
   "outputs": [],
   "source": [
    "fprime_moy = np.mean(fprimes) # moyenne des mesures\n",
    "U_fprime_moy = (np.sum(U_fprimes**2))**0.5/nbDeMesuresOA #moyenne des incertitudes\n",
    "plt.errorbar(np.arange(1,nbDeMesuresOA+1),fprimes,xerr=0,yerr=0,fmt='o')\n",
    "plt.xlabel('Numéro de la mesure',fontsize=20)\n",
    "plt.ylabel(\"$f'$\",fontsize=20)\n",
    "titre = \"%.0f Mesures de la distance focale f' \\n\"\n",
    "soustitre = \"Moyenne (en rouge) des %.0f mesures : f' = %.3f cm  \\n Incertitude moyenne (en bleu) des 8 mesures:  U(f')= %.3f cm \"\n",
    "titre2 = titre+soustitre\n",
    "plt.title(titre2%(nbDeMesuresOA,nbDeMesuresOA,fprime_moy,U_fprime_moy),fontsize=20)\n",
    "plt.grid()\n",
    "plt.axhline(y = fprime_moy, color = 'r', linestyle = '-')\n",
    "plt.axhline(y = fprime_moy + U_fprime_moy , color = 'b', linestyle = '--',linewidth= 0.5)\n",
    "plt.axhline(y = fprime_moy - U_fprime_moy , color = 'b', linestyle = '--',linewidth= 0.5)\n",
    "plt.annotate(\"\", xy=(8.25,fprime_moy), xytext=(8.25,fprime_moy+ U_fprime_moy), arrowprops=dict(arrowstyle='<->',color=\"b\"))\n",
    "plt.text(8.4,fprime_moy+U_fprime_moy/2, \"$U(f')$\",color=\"b\",fontsize=16)\n",
    "plt.text(8.4,fprime_moy, \"$f$ '\",color =\"r\",fontsize=16)\n",
    "plt.show()"
   ]
  },
  {
   "cell_type": "markdown",
   "id": "e77ebdda",
   "metadata": {},
   "source": [
    "✍️ **Les mesures effectuées sont elles compatibles avec la valeur de référence donnée par le constructeur ?**"
   ]
  }
 ],
 "metadata": {
  "kernelspec": {
   "display_name": "Python 3 (ipykernel)",
   "language": "python",
   "name": "python3"
  },
  "language_info": {
   "codemirror_mode": {
    "name": "ipython",
    "version": 3
   },
   "file_extension": ".py",
   "mimetype": "text/x-python",
   "name": "python",
   "nbconvert_exporter": "python",
   "pygments_lexer": "ipython3",
   "version": "3.9.12"
  }
 },
 "nbformat": 4,
 "nbformat_minor": 5
}
