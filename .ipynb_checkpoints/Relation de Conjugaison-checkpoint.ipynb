{
 "cells": [
  {
   "cell_type": "markdown",
   "id": "0007f644",
   "metadata": {},
   "source": [
    "# Mesures et incertitudes\n",
    "✍️ **Compléter le code ci-dessous en écrivant les listes de valeurs de $\\overline{OA}$, $U(\\overline{OA})$, $\\overline{OA'}$ et $U(\\overline{OA'})$**"
   ]
  },
  {
   "cell_type": "code",
   "execution_count": 27,
   "id": "d1422459",
   "metadata": {},
   "outputs": [
    {
     "name": "stdout",
     "output_type": "stream",
     "text": [
      "Les résultats de vos mesures ont été stockées dans les 4 listes suivantes : \n",
      "OA        =  [-15, -17, -19, -20, -21, -23, -25, -27]\n",
      "U_OA      =  [0.3, 0.3, 0.3, 0.3, 0.3, 0.3, 0.3, 0.3]\n",
      "OAprime   =  [35, 30, 25.25, 23, 22, 20, 19, 18]\n",
      "U_OAprime =  [0.5, 0.5, 0.5, 0.5, 0.5, 0.5, 0.5, 0.5]\n"
     ]
    }
   ],
   "source": [
    "OA =     [-15,-17,-19,  -20,  -21,-23,-25,-27] #COMPLETER CETTE LIGNE AVEC DES VALEURS EN CM\n",
    "                                               #Exemple : OA = [-7, -8, -9, -10, -11]\n",
    "                                               #Attention : les grandeurs algébriques peuvent être négatives\n",
    "\n",
    "U_OA = [0.3,0.3,0.3,0.3,0.3,0.3,0.3,0.3]       #COMPLETER CETTE LIGNE AVEC DES VALEURS EN CM\n",
    "\n",
    "OAprime = [35, 30, 25.25, 23,   22, 20, 19,  18 ] #COMPLETER CETTE LIGNE AVEC DES VALEURS EN CM\n",
    "                                                 #Exemple : OAprime = [17, 18, 19, 10, 11]\n",
    "                                                 #Attention : ce sont des grandeurs algébriques !!\n",
    "\n",
    "U_OAprime = [0.5,0.5,0.5,0.5,0.5,0.5,0.5,0.5]  #COMPLETER CETTE LIGNE AVEC DES VALEURS EN CM\n",
    "\n",
    "nbDeMesuresOA = np.size(OA)           #Calcul le nombre de mesures de OA [NE PAS MODIFIER CETTE LIGNE]\n",
    "\n",
    "print(\"Les résultats de vos mesures ont été stockées dans les 4 listes suivantes : \")\n",
    "print(\"OA        = \", OA)\n",
    "print(\"U_OA      = \", U_OA)\n",
    "print(\"OAprime   = \",  OAprime)\n",
    "print(\"U_OAprime = \", U_OAprime)"
   ]
  },
  {
   "cell_type": "markdown",
   "id": "1c7e76f2",
   "metadata": {},
   "source": [
    "Pour chacune des 8 mesures que vous avez effectuées, nous allons calculer $f'$ et $U(f')$. Les calculs seront effectués dans une boucle <code>for</code>. \n",
    "\n",
    "La distance focale f' est donnée par la relation suivante : \n",
    "$f' = \\frac{\\overline{OA'} \\times \\overline{OA}}{\\overline{OA}-\\overline{OA'}}$ \n",
    "\n",
    "L'incertitude sur la distance focale $U(f')$ se calcule avec la relation suivante : $U(f')= 2\\times f'^2 \\times (\\frac{U(\\overline{OA})}{\\overline{OA}^2} + \\frac{U(\\overline{OA'})}{\\overline{OA'}^2})$\n",
    "\n",
    "✍️ **Compléter le code ci-dessous avec les expressions littérales permettant de calculer $f'$ et $U(f')$. Aidez-vous des indices ci-dessous :**\n",
    "\n",
    "Indices : \n",
    "- Penser à utiliser les mêmes notations que dans le code précédent (exemple :  $OA'$ s'écrit <code>OAprime</code> ou encore $U(OA')$ s'écrit <code>U_OAprime</code>)  \n",
    "- Dans la boucle for, la variable \"i\" varie entre 0 et 7. Cette variable 'i', sert à faire les calculs avec le i ème élément des listes <code>OA, U_OA, OAprime</code> et <code>U_OAprime</code>. Donc, pensez à écrire <code>OA[i], OAprime[i], U_OA[i]</code> et <code>U_OAprime[i]</code>.  La notation '[i]' signifie que l'on fait le calcule avec le i ème élément de la liste. \n",
    "- En python, on écrit la puissance avec 2 étoiles : *Exemple, $2^3$ s'écrit <code>2**3</code>*\n",
    "- En python, la racine carré s'écrit avec la fonction np.sqrt : *Exemple $\\sqrt{5}$ s'écrit <code>np.sqrt(5)</code>*"
   ]
  },
  {
   "cell_type": "code",
   "execution_count": 23,
   "id": "ff220fc0",
   "metadata": {},
   "outputs": [
    {
     "name": "stdout",
     "output_type": "stream",
     "text": [
      "Voici les résultats des calculs\n",
      "f'    =  [10.5  10.85 10.84 10.7  10.74 10.7  10.8 ]\n",
      "U(f') =  [0.31 0.28 0.27 0.28 0.29 0.31 0.34]\n"
     ]
    }
   ],
   "source": [
    "fprimes =[] #Liste Vide                                                             [NE PAS MODIFIER CETTE LIGNE]\n",
    "U_fprimes =[] #Liste Vide                                                           [NE PAS MODIFIER CETTE LIGNE]\n",
    "\n",
    "for i in range(0,7): #Pour chacune des 8 mesures, on calcule fprime et U_fprime     [NE PAS MODIFIER CETTE LIGNE]\n",
    "    \n",
    "    fprime = 1/(1/OAprime[i]-1/OA[i])                                                       #COMPLETER CETTE LIGNE   \n",
    "    U_fprime = 2*fprime**2*( (U_OA[i]/OA[i]**2)**2+(U_OAprime[i]/OAprime[i]**2)**2 )**0.5   #COMPLETER CETTE LIGNE\n",
    "\n",
    "    fprimes.append(fprime)  #Ajout du résultat dans la liste                        [NE PAS MODIFIER CETTE LIGNE]\n",
    "    U_fprimes.append(U_fprime)  #Ajout du résultat dans la liste                    [NE PAS MODIFIER CETTE LIGNE]\n",
    "\n",
    "fprimes=np.round(fprimes,2) #Ces lignes arrondissent les résultats              [NE PAS MODIFIER CETTE LIGNE]\n",
    "U_fprimes=np.round(U_fprimes,2) #pour ne conserver qu'un chiffre après la virgule   [NE PAS MODIFIER CETTE LIGNE]\n",
    "\n",
    "print(\"Voici les résultats des calculs\")                                           #[NE PAS MODIFIER CETTE LIGNE]\n",
    "print(\"f'    = \", fprimes)                                                            #[NE PAS MODIFIER CETTE LIGNE]\n",
    "print(\"U(f') = \", U_fprimes)                                                       #[NE PAS MODIFIER CETTE LIGNE]"
   ]
  },
  {
   "cell_type": "code",
   "execution_count": null,
   "id": "0ebf0509",
   "metadata": {},
   "outputs": [],
   "source": []
  }
 ],
 "metadata": {
  "kernelspec": {
   "display_name": "Python 3 (ipykernel)",
   "language": "python",
   "name": "python3"
  },
  "language_info": {
   "codemirror_mode": {
    "name": "ipython",
    "version": 3
   },
   "file_extension": ".py",
   "mimetype": "text/x-python",
   "name": "python",
   "nbconvert_exporter": "python",
   "pygments_lexer": "ipython3",
   "version": "3.9.12"
  }
 },
 "nbformat": 4,
 "nbformat_minor": 5
}
