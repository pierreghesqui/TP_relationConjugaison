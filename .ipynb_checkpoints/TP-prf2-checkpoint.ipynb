{
 "cells": [
  {
   "cell_type": "markdown",
   "id": "8b7e6f53",
   "metadata": {},
   "source": [
    "# 1- Mesures et incertitudes\n",
    "✍️ **Compléter le code ci-dessous en écrivant les listes de valeurs de $\\overline{OA}$, $U(\\overline{OA})$, $\\overline{OA'}$ et $U(\\overline{OA'})$**"
   ]
  },
  {
   "cell_type": "code",
   "execution_count": null,
   "id": "6ffcb301",
   "metadata": {
    "scrolled": true
   },
   "outputs": [],
   "source": [
    "import numpy as np                             #[NE PAS MODIFIER CETTE LIGNE]\n",
    "import matplotlib.pyplot as plt                #[NE PAS MODIFIER CETTE LIGNE]\n",
    "\n",
    "OA =     [...,...,..., ..., ...,...,...,...] #COMPLETER CETTE LIGNE AVEC DES VALEURS EN CM\n",
    "                                               #Exemple : OA = [-7, -8, -9, -10, -11]\n",
    "                                               #Attention : les grandeurs algébriques peuvent être négatives\n",
    "\n",
    "U_OA = [...,...,..., ..., ...,...,...,...]       #COMPLETER CETTE LIGNE AVEC DES VALEURS EN CM\n",
    "\n",
    "OAprime = [...,...,..., ..., ...,...,...,...] #COMPLETER CETTE LIGNE AVEC DES VALEURS EN CM\n",
    "                                                 #Exemple : OAprime = [17, 18, 19, 10, 11]\n",
    "                                                 #Attention : ce sont des grandeurs algébriques !!\n",
    "\n",
    "U_OAprime = [...,...,..., ..., ...,...,...,...]  #COMPLETER CETTE LIGNE AVEC DES VALEURS EN CM\n",
    "\n",
    "nbDeMesuresOA = np.size(OA)           #Calcul le nombre de mesures de OA [NE PAS MODIFIER CETTE LIGNE]\n",
    "\n",
    "print(\"Les résultats de vos mesures ont été stockées dans les 4 listes suivantes : \")\n",
    "print(\"OA        = \", OA)\n",
    "print(\"U_OA      = \", U_OA)\n",
    "print(\"OAprime   = \",  OAprime)\n",
    "print(\"U_OAprime = \", U_OAprime)"
   ]
  },
  {
   "cell_type": "markdown",
   "id": "e732622c",
   "metadata": {},
   "source": [
    "✍️ **Exécuter le code ci-dessus (pour cela, cliquer sur le code puis sur la flèche en haut de la page**"
   ]
  },
  {
   "cell_type": "markdown",
   "id": "b8946f81",
   "metadata": {},
   "source": [
    "# 2- Calcul des $f'$ et $U(f')$ pour chaque mesure\n",
    "Pour chacune des 8 mesures que vous avez effectuées, nous allons calculer $f'$ et $U(f')$. Les calculs seront effectués dans une boucle <code>for</code>. \n",
    "\n",
    "La distance focale f' est donnée par la relation suivante : \n",
    "$f' = \\frac{\\overline{OA'} \\times \\overline{OA}}{\\overline{OA}-\\overline{OA'}}$ \n",
    "\n",
    "✍️ **Compléter la ligne du code ci-dessous permettant de calculer $f'$. Aidez-vous des indices ci-dessous :**\n",
    "\n",
    "Indices : \n",
    "- Penser à utiliser les mêmes notations que dans le code précédent (exemple :  $OA'$ s'écrit <code>OAprime</code> ou encore $U(OA')$ s'écrit <code>U_OAprime</code>)  \n",
    "- Dans la boucle for, la variable \"i\" varie entre 0 et 7. Cette variable 'i', sert à faire les calculs avec le i ème élément des listes <code>OA, U_OA, OAprime</code> et <code>U_OAprime</code>. Donc, pensez à écrire <code>OA[i], OAprime[i], U_OA[i]</code> et <code>U_OAprime[i]</code>.  La notation '[i]' signifie que l'on fait le calcule avec le i ème élément de la liste. "
   ]
  },
  {
   "cell_type": "code",
   "execution_count": null,
   "id": "5c3152d1",
   "metadata": {
    "scrolled": false
   },
   "outputs": [],
   "source": [
    "fprimes =[] #Liste Vide                                                             [NE PAS MODIFIER CETTE LIGNE]\n",
    "U_fprimes =[] #Liste Vide                                                           [NE PAS MODIFIER CETTE LIGNE]\n",
    "\n",
    "for i in range(0,8): #Pour chacune des 8 mesures, on calcule fprime et U_fprime     [NE PAS MODIFIER CETTE LIGNE]\n",
    "    \n",
    "    fprime = .../...                                                                #COMPLETER CETTE LIGNE=================   \n",
    "    \n",
    "    U_fprime = 2*fprime**2*np.sqrt( (U_OA[i]**2/OA[i]**4)+(U_OAprime[i]**2/OAprime[i]**4) ) #Calcul de l'incertitude U(f')\n",
    "                                                                                            #[NE PAS MODIFIER CETTE LIGNE]\n",
    "\n",
    "    fprimes.append(fprime)  #Ajout du résultat dans la liste  fprimes               [NE PAS MODIFIER CETTE LIGNE]\n",
    "    U_fprimes.append(U_fprime)  #Ajout du résultat dans la liste U_fprimes          [NE PAS MODIFIER CETTE LIGNE]\n",
    "\n",
    "fprimes=np.round(fprimes,2) #Ces lignes arrondissent les résultats                  [NE PAS MODIFIER CETTE LIGNE]\n",
    "U_fprimes=np.round(U_fprimes,2) #pour ne conserver qu'un chiffre après la virgule   [NE PAS MODIFIER CETTE LIGNE]\n",
    "\n",
    "print(\"Voici les résultats des calculs\")#                                           [NE PAS MODIFIER CETTE LIGNE]\n",
    "print(\"f'    = \", fprimes)              #                                           [NE PAS MODIFIER CETTE LIGNE]\n",
    "print(\"U(f') = \", U_fprimes)            #                                           [NE PAS MODIFIER CETTE LIGNE]"
   ]
  },
  {
   "cell_type": "markdown",
   "id": "a8a502c9",
   "metadata": {},
   "source": [
    "✍️ **Faire les travaux 6 et 7 de votre polycopié de cours**"
   ]
  },
  {
   "cell_type": "markdown",
   "id": "71f51f18",
   "metadata": {},
   "source": [
    "# 3- Synthèse des résultats\n",
    "Nous avons effectué 8 mesures de $f'$ et avons obtenu 8 résultats différents. Dans le code ci-dessous, nous allons faire la moyenne des résultats.\n",
    "\n",
    "✍️ **Compléter la ligne du code ci-dessous en indiquant la valeur de la moyenne des $f'$ puis exécuter le code**"
   ]
  },
  {
   "cell_type": "code",
   "execution_count": null,
   "id": "fa133491",
   "metadata": {
    "scrolled": true
   },
   "outputs": [],
   "source": [
    "fprime       = ...                            #A compléter avec la valeur moyenne des fprime ================================\n",
    "\n",
    "U_fprime     = (np.sum(U_fprimes**2))**0.5/nbDeMesuresOA #Calcul de la moyenne des incertitudes NE PAS MODIFIER CETTE LIGNE \n",
    "                                                         # moyenne quadratique des incertitudes U(f')\n",
    "                                                         # la façon de calculer la moyenne des incertitudes n'est pas la même\n",
    "                                                         # que pour la moyenne de f'. \n",
    "\n",
    "\n",
    "#======================NE PAS MOFIFIER LE CODE CI-DESSOUS==================================================================\n",
    "plt.errorbar(np.arange(1,nbDeMesuresOA+1),fprimes,xerr=0,yerr=0,fmt='o')\n",
    "plt.xlabel('Numéro de la mesure',fontsize=20)\n",
    "plt.ylabel(\"$f'$\",fontsize=20)\n",
    "titre = \"%.0f Mesures de la distance focale f' \\n\"\n",
    "soustitre = \"Moyenne (en rouge) des %.0f mesures : f' = %.3f cm  \\n Incertitude moyenne (en bleu) des 8 mesures:  U(f')= %.3f cm \"\n",
    "titre2 = titre+soustitre\n",
    "plt.title(titre2%(nbDeMesuresOA,nbDeMesuresOA,fprime,U_fprime),fontsize=20)\n",
    "plt.grid()\n",
    "plt.axhline(y = fprime, color = 'r', linestyle = '-')\n",
    "plt.axhline(y = fprime + U_fprime , color = 'b', linestyle = '--',linewidth= 0.5)\n",
    "plt.axhline(y = fprime - U_fprime , color = 'b', linestyle = '--',linewidth= 0.5)\n",
    "plt.annotate(\"\", xy=(8.25,fprime), xytext=(8.25,fprime+ U_fprime), arrowprops=dict(arrowstyle='<->',color=\"b\"))\n",
    "plt.text(8.4,fprime+U_fprimey/2, \"$U(f')$\",color=\"b\",fontsize=16)\n",
    "plt.text(8.4,fprime, \"$f$ '\",color =\"r\",fontsize=16)\n",
    "plt.show()"
   ]
  },
  {
   "cell_type": "markdown",
   "id": "e77ebdda",
   "metadata": {},
   "source": [
    "✍️ **Les mesures effectuées sont elles compatibles avec la valeur de référence donnée par le constructeur ?**"
   ]
  }
 ],
 "metadata": {
  "kernelspec": {
   "display_name": "Python 3 (ipykernel)",
   "language": "python",
   "name": "python3"
  },
  "language_info": {
   "codemirror_mode": {
    "name": "ipython",
    "version": 3
   },
   "file_extension": ".py",
   "mimetype": "text/x-python",
   "name": "python",
   "nbconvert_exporter": "python",
   "pygments_lexer": "ipython3",
   "version": "3.9.12"
  }
 },
 "nbformat": 4,
 "nbformat_minor": 5
}
